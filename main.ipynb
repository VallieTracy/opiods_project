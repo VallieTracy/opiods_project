{
 "cells": [
  {
   "cell_type": "code",
   "execution_count": 1,
   "metadata": {},
   "outputs": [],
   "source": [
    "import pandas as pd"
   ]
  },
  {
   "cell_type": "code",
   "execution_count": 2,
   "metadata": {},
   "outputs": [],
   "source": [
    "#set path for csv file\n",
    "csvpath = \"Resources/drugPoisoningDeaths.csv\"\n",
    "#import the purchase_data.csv file as a DataFrame\n",
    "poisoningDeathsDF = pd.read_csv(csvpath)"
   ]
  },
  {
   "cell_type": "code",
   "execution_count": 3,
   "metadata": {},
   "outputs": [
    {
     "data": {
      "text/html": [
       "<div>\n",
       "<style scoped>\n",
       "    .dataframe tbody tr th:only-of-type {\n",
       "        vertical-align: middle;\n",
       "    }\n",
       "\n",
       "    .dataframe tbody tr th {\n",
       "        vertical-align: top;\n",
       "    }\n",
       "\n",
       "    .dataframe thead th {\n",
       "        text-align: right;\n",
       "    }\n",
       "</style>\n",
       "<table border=\"1\" class=\"dataframe\">\n",
       "  <thead>\n",
       "    <tr style=\"text-align: right;\">\n",
       "      <th></th>\n",
       "      <th>Fips</th>\n",
       "      <th>Location</th>\n",
       "      <th>Drug Type</th>\n",
       "      <th>TimeFrame</th>\n",
       "      <th>Data Type</th>\n",
       "      <th>Data</th>\n",
       "      <th>MOE</th>\n",
       "    </tr>\n",
       "  </thead>\n",
       "  <tbody>\n",
       "    <tr>\n",
       "      <th>0</th>\n",
       "      <td>1</td>\n",
       "      <td>Alabama</td>\n",
       "      <td>Cocaine</td>\n",
       "      <td>2000</td>\n",
       "      <td>Rate per 100,000</td>\n",
       "      <td>NaN</td>\n",
       "      <td>NaN</td>\n",
       "    </tr>\n",
       "    <tr>\n",
       "      <th>1</th>\n",
       "      <td>1</td>\n",
       "      <td>Alabama</td>\n",
       "      <td>Heroin</td>\n",
       "      <td>2000</td>\n",
       "      <td>Rate per 100,000</td>\n",
       "      <td>NaN</td>\n",
       "      <td>NaN</td>\n",
       "    </tr>\n",
       "    <tr>\n",
       "      <th>2</th>\n",
       "      <td>1</td>\n",
       "      <td>Alabama</td>\n",
       "      <td>Natural and semi-synthetic opioids</td>\n",
       "      <td>2000</td>\n",
       "      <td>Rate per 100,000</td>\n",
       "      <td>0.59776</td>\n",
       "      <td>0.230279</td>\n",
       "    </tr>\n",
       "    <tr>\n",
       "      <th>3</th>\n",
       "      <td>1</td>\n",
       "      <td>Alabama</td>\n",
       "      <td>Psychostimulants</td>\n",
       "      <td>2000</td>\n",
       "      <td>Rate per 100,000</td>\n",
       "      <td>NaN</td>\n",
       "      <td>NaN</td>\n",
       "    </tr>\n",
       "    <tr>\n",
       "      <th>4</th>\n",
       "      <td>1</td>\n",
       "      <td>Alabama</td>\n",
       "      <td>Synthetic opioids</td>\n",
       "      <td>2000</td>\n",
       "      <td>Rate per 100,000</td>\n",
       "      <td>NaN</td>\n",
       "      <td>0.144283</td>\n",
       "    </tr>\n",
       "  </tbody>\n",
       "</table>\n",
       "</div>"
      ],
      "text/plain": [
       "   Fips Location                           Drug Type  TimeFrame  \\\n",
       "0     1  Alabama                             Cocaine       2000   \n",
       "1     1  Alabama                              Heroin       2000   \n",
       "2     1  Alabama  Natural and semi-synthetic opioids       2000   \n",
       "3     1  Alabama                    Psychostimulants       2000   \n",
       "4     1  Alabama                   Synthetic opioids       2000   \n",
       "\n",
       "          Data Type     Data       MOE  \n",
       "0  Rate per 100,000      NaN       NaN  \n",
       "1  Rate per 100,000      NaN       NaN  \n",
       "2  Rate per 100,000  0.59776  0.230279  \n",
       "3  Rate per 100,000      NaN       NaN  \n",
       "4  Rate per 100,000      NaN  0.144283  "
      ]
     },
     "execution_count": 3,
     "metadata": {},
     "output_type": "execute_result"
    }
   ],
   "source": [
    "poisoningDeathsDF.head()"
   ]
  },
  {
   "cell_type": "code",
   "execution_count": 4,
   "metadata": {},
   "outputs": [],
   "source": [
    "#set path for csv file\n",
    "csvpath = \"Resources/opioidPrescriptionSales.csv\"\n",
    "#import the purchase_data.csv file as a DataFrame\n",
    "prescriptionSalesDF = pd.read_csv(csvpath)"
   ]
  },
  {
   "cell_type": "code",
   "execution_count": 5,
   "metadata": {},
   "outputs": [
    {
     "data": {
      "text/html": [
       "<div>\n",
       "<style scoped>\n",
       "    .dataframe tbody tr th:only-of-type {\n",
       "        vertical-align: middle;\n",
       "    }\n",
       "\n",
       "    .dataframe tbody tr th {\n",
       "        vertical-align: top;\n",
       "    }\n",
       "\n",
       "    .dataframe thead th {\n",
       "        text-align: right;\n",
       "    }\n",
       "</style>\n",
       "<table border=\"1\" class=\"dataframe\">\n",
       "  <thead>\n",
       "    <tr style=\"text-align: right;\">\n",
       "      <th></th>\n",
       "      <th>Fips</th>\n",
       "      <th>Location</th>\n",
       "      <th>Oxycodone / Hydrocodone</th>\n",
       "      <th>TimeFrame</th>\n",
       "      <th>Data Type</th>\n",
       "      <th>Data</th>\n",
       "      <th>MOE</th>\n",
       "    </tr>\n",
       "  </thead>\n",
       "  <tbody>\n",
       "    <tr>\n",
       "      <th>0</th>\n",
       "      <td>1</td>\n",
       "      <td>Alabama</td>\n",
       "      <td>Oxycodone</td>\n",
       "      <td>2000</td>\n",
       "      <td>Rate per 100,000</td>\n",
       "      <td>6.74399</td>\n",
       "      <td>NaN</td>\n",
       "    </tr>\n",
       "    <tr>\n",
       "      <th>1</th>\n",
       "      <td>1</td>\n",
       "      <td>Alabama</td>\n",
       "      <td>Oxycodone</td>\n",
       "      <td>2001</td>\n",
       "      <td>Rate per 100,000</td>\n",
       "      <td>7.79399</td>\n",
       "      <td>NaN</td>\n",
       "    </tr>\n",
       "    <tr>\n",
       "      <th>2</th>\n",
       "      <td>1</td>\n",
       "      <td>Alabama</td>\n",
       "      <td>Oxycodone</td>\n",
       "      <td>2002</td>\n",
       "      <td>Rate per 100,000</td>\n",
       "      <td>7.80123</td>\n",
       "      <td>NaN</td>\n",
       "    </tr>\n",
       "    <tr>\n",
       "      <th>3</th>\n",
       "      <td>1</td>\n",
       "      <td>Alabama</td>\n",
       "      <td>Oxycodone</td>\n",
       "      <td>2003</td>\n",
       "      <td>Rate per 100,000</td>\n",
       "      <td>9.26128</td>\n",
       "      <td>NaN</td>\n",
       "    </tr>\n",
       "    <tr>\n",
       "      <th>4</th>\n",
       "      <td>1</td>\n",
       "      <td>Alabama</td>\n",
       "      <td>Oxycodone</td>\n",
       "      <td>2004</td>\n",
       "      <td>Rate per 100,000</td>\n",
       "      <td>9.10411</td>\n",
       "      <td>NaN</td>\n",
       "    </tr>\n",
       "  </tbody>\n",
       "</table>\n",
       "</div>"
      ],
      "text/plain": [
       "   Fips Location Oxycodone / Hydrocodone  TimeFrame         Data Type  \\\n",
       "0     1  Alabama               Oxycodone       2000  Rate per 100,000   \n",
       "1     1  Alabama               Oxycodone       2001  Rate per 100,000   \n",
       "2     1  Alabama               Oxycodone       2002  Rate per 100,000   \n",
       "3     1  Alabama               Oxycodone       2003  Rate per 100,000   \n",
       "4     1  Alabama               Oxycodone       2004  Rate per 100,000   \n",
       "\n",
       "      Data  MOE  \n",
       "0  6.74399  NaN  \n",
       "1  7.79399  NaN  \n",
       "2  7.80123  NaN  \n",
       "3  9.26128  NaN  \n",
       "4  9.10411  NaN  "
      ]
     },
     "execution_count": 5,
     "metadata": {},
     "output_type": "execute_result"
    }
   ],
   "source": [
    "prescriptionSalesDF.head()"
   ]
  },
  {
   "cell_type": "code",
   "execution_count": 6,
   "metadata": {},
   "outputs": [
    {
     "ename": "SyntaxError",
     "evalue": "invalid syntax (<ipython-input-6-6d7d6094ca02>, line 1)",
     "output_type": "error",
     "traceback": [
      "\u001b[1;36m  File \u001b[1;32m\"<ipython-input-6-6d7d6094ca02>\"\u001b[1;36m, line \u001b[1;32m1\u001b[0m\n\u001b[1;33m    sqlite> .mode csv\u001b[0m\n\u001b[1;37m            ^\u001b[0m\n\u001b[1;31mSyntaxError\u001b[0m\u001b[1;31m:\u001b[0m invalid syntax\n"
     ]
    }
   ],
   "source": [
    "sqlite> .mode csv\n",
    "sqlite> .import test.csv foo"
   ]
  },
  {
   "cell_type": "code",
   "execution_count": 36,
   "metadata": {},
   "outputs": [],
   "source": [
    "df =poisoningDeathsDF.merge(prescriptionSalesDF, how='left',on=['Location','TimeFrame'])\\\n",
    "        .drop(columns=['Fips_x','Fips_y','MOE_x','MOE_y','Data Type_x','Data Type_y']).dropna()\\\n",
    "        .rename(columns={'TimeFrame':'Year','Location':'State','Data_x':'Deaths Rate Per 100K','Data_y':'Drug Sold per 100K'})\n",
    "            \n",
    "grpDf = df.groupby(['Year','State','Oxycodone / Hydrocodone']).max()\n",
    "\n",
    "grpDf.to_csv('Grouped_by_Year_State_and_Drug.csv')"
   ]
  }
 ],
 "metadata": {
  "kernelspec": {
   "display_name": "Python 3",
   "language": "python",
   "name": "python3"
  },
  "language_info": {
   "codemirror_mode": {
    "name": "ipython",
    "version": 3
   },
   "file_extension": ".py",
   "mimetype": "text/x-python",
   "name": "python",
   "nbconvert_exporter": "python",
   "pygments_lexer": "ipython3",
   "version": "3.6.9"
  }
 },
 "nbformat": 4,
 "nbformat_minor": 2
}
